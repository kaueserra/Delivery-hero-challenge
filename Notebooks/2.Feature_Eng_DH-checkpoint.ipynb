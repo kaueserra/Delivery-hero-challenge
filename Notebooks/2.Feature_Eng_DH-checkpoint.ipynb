{
 "cells": [
  {
   "cell_type": "code",
   "execution_count": null,
   "metadata": {},
   "outputs": [],
   "source": []
  },
  {
   "cell_type": "code",
   "execution_count": null,
   "metadata": {},
   "outputs": [],
   "source": [
    "ds_rest = ds[['order_date','restaurant_id','is_failed']][ds.is_failed == 0].sort_values('order_date').drop_duplicates('restaurant_id',keep='first').drop('is_failed',axis=1) \n",
    "ds_city = ds[['order_date','city_id','is_failed']][ds.is_failed == 0].sort_values('order_date').drop_duplicates('city_id',keep='first').drop('is_failed',axis=1) \n",
    "\n",
    "ds = pd.merge(ds,ds_rest,how='left',on='restaurant_id',suffixes = ('','rest_first')) \n",
    "ds = pd.merge(ds,ds_city,how='left',on='city_id',suffixes = ('','city_first')) \n",
    "\n",
    "ds.head()"
   ]
  },
  {
   "cell_type": "code",
   "execution_count": null,
   "metadata": {},
   "outputs": [],
   "source": [
    "# Having a premiss that delivery hero is new in a town less than 6 months and a restaurant less than 3\n",
    "\n",
    "ds['new_rest'] = np.where( (ds['order_date'] - ds['order_daterest_first']).dt.days <90 ,1,0) \n",
    "\n",
    "ds['new_city'] = np.where( (ds['order_date'] - ds['order_datecity_first']).dt.days <180 ,1,0) \n",
    "\n"
   ]
  },
  {
   "cell_type": "code",
   "execution_count": null,
   "metadata": {},
   "outputs": [],
   "source": [
    "def return_k_cluster(data):  \n",
    "    \"\"\"\" \n",
    "    this function searches for the perfect number of clusters, \n",
    "\n",
    "    Also plots the elbow graph \n",
    "\n",
    "    \"\"\"\n",
    "\n",
    "    distortions = [] \n",
    "    t0 = time()\n",
    "    K = range(2,35)\n",
    "    for k in K:\n",
    "        kmeanModel = KMeans(n_clusters=k, init='k-means++', max_iter=200, n_init=3)\n",
    "        kmeanModel.fit(data)\n",
    "        distortions.append(kmeanModel.inertia_)   \n",
    "\n",
    "    print(\"done in %0.3fs\" % (time() - t0)) \n",
    "\n",
    "    plt.figure(figsize=(16,8))\n",
    "    plt.plot(K, distortions, 'bx-')\n",
    "    plt.xlabel('k')\n",
    "    plt.ylabel('Distortion')\n",
    "    plt.title('The Elbow Method showing the optimal k')\n",
    "    plt.show()"
   ]
  },
  {
   "cell_type": "code",
   "execution_count": null,
   "metadata": {},
   "outputs": [],
   "source": [
    "# Clustering Citys and restaurants by it's size and % of returning clients \n",
    "\n",
    "# first cluster city  \n",
    "\n",
    "ds_city = ds.copy()\n",
    "\n",
    "ds_city = ds_city.drop_duplicates(subset=['customer_id','city_id','restaurant_id'],keep ='first')\n",
    "\n",
    "\n",
    "# If I aggreated by returned customer without removing restaurant id, customers would appear duplicated \n",
    "\n",
    "ds_city1 = ds_city.drop_duplicates(subset=['customer_id','city_id','is_returning_customer'],keep ='first')\n",
    "\n",
    "\n",
    "\n",
    "ds_city_agg = pd.DataFrame(ds.groupby('city_id').agg({ \n",
    "    'customer_id': lambda x: x.nunique(), \n",
    "     'restaurant_id':lambda x: x.nunique() }) )\n",
    "\n",
    "ds_city_agg1 = pd.DataFrame(ds.groupby('city_id').agg({ \n",
    "    'is_returning_customer': 'mean', }) )\n",
    "\n",
    "city_agg = pd.merge(ds_city_agg,ds_city_agg1,how='left',left_index=True, right_index=True) \n",
    "\n",
    "\n",
    "city_agg = pd.DataFrame(minmax_scale(city_agg),index=city_agg.index, columns=city_agg.columns  )\n",
    "\n",
    "city_agg.head()"
   ]
  },
  {
   "cell_type": "code",
   "execution_count": null,
   "metadata": {},
   "outputs": [],
   "source": [
    "return_k_cluster(city_agg)"
   ]
  },
  {
   "cell_type": "code",
   "execution_count": null,
   "metadata": {},
   "outputs": [],
   "source": [
    "# With Elbow technique I was able to see that 7 clusters are fine for the type of the cities\n",
    "km = KMeans(n_clusters=7, init='k-means++', max_iter=1000, n_init=3)\n",
    "              \n",
    "\n",
    "print(\"Clustering sparse data with %s\" % km)\n",
    "t0 = time()\n",
    "\n",
    "city_agg['pred_city_cl'] = km.fit_predict(city_agg)\n",
    "\n",
    "print(\"done in %0.3fs\" % (time() - t0))\n",
    "print()\n",
    "\n",
    "# Silhouette coefficient it is a metric that ranges from -1 to 1, being 1 a perfect separation, \n",
    "# therefore 0.951 is its great \n",
    "print(\"Silhouette Coefficient: %0.3f\"\n",
    "      % metrics.silhouette_score(city_agg, km.labels_, sample_size=1000))"
   ]
  },
  {
   "cell_type": "code",
   "execution_count": null,
   "metadata": {},
   "outputs": [],
   "source": [
    "city_agg['pred_city_cl'].value_counts()"
   ]
  },
  {
   "cell_type": "code",
   "execution_count": null,
   "metadata": {},
   "outputs": [],
   "source": [
    "# Now for the Restaurants\n",
    "\n",
    "ds_rest = ds.copy()\n",
    "\n",
    "ds_rest = ds_rest.drop_duplicates(subset=['customer_id','restaurant_id','is_returning_customer'],keep ='first')\n",
    "\n",
    "\n",
    "# If I aggreated by returned customer without removing restaurant id, customers would appear duplicated \n",
    "\n",
    "\n",
    "ds_rest_agg = pd.DataFrame(ds.groupby('restaurant_id').agg({ \n",
    "    'customer_id': lambda x: x.nunique(), \n",
    "     'is_returning_customer':'mean' }) )\n",
    "\n",
    "\n",
    "\n",
    "ds_rest_agg = pd.DataFrame(minmax_scale(ds_rest_agg),index=ds_rest_agg.index, columns=ds_rest_agg.columns )\n",
    "\n",
    "ds_rest_agg.head()"
   ]
  },
  {
   "cell_type": "code",
   "execution_count": null,
   "metadata": {},
   "outputs": [],
   "source": [
    "return_k_cluster(ds_rest_agg)"
   ]
  },
  {
   "cell_type": "code",
   "execution_count": null,
   "metadata": {},
   "outputs": [],
   "source": [
    "km = KMeans(n_clusters=11, init='k-means++', max_iter=1000, n_init=3)\n",
    "              \n",
    "\n",
    "print(\"Clustering sparse data with %s\" % km)\n",
    "t0 = time()\n",
    "\n",
    "ds_rest_agg['pred_rest_cl'] = km.fit_predict(ds_rest_agg)\n",
    "\n",
    "print(\"done in %0.3fs\" % (time() - t0))\n",
    "print()\n",
    "\n",
    "# Silhouette coefficient it is a metric that ranges from -1 to 1, being 1 a perfect separation, \n",
    "# therefore 0.951 is its great \n",
    "print(\"Silhouette Coefficient: %0.3f\"\n",
    "      % metrics.silhouette_score(ds_rest_agg, km.labels_, sample_size=1000))"
   ]
  },
  {
   "cell_type": "code",
   "execution_count": null,
   "metadata": {},
   "outputs": [],
   "source": [
    "ds_rest_agg['pred_rest_cl'].value_counts()"
   ]
  },
  {
   "cell_type": "code",
   "execution_count": null,
   "metadata": {},
   "outputs": [],
   "source": [
    "ds_rest_agg.head()"
   ]
  }
 ],
 "metadata": {
  "kernelspec": {
   "display_name": "Python 3",
   "language": "python",
   "name": "python3"
  },
  "language_info": {
   "codemirror_mode": {
    "name": "ipython",
    "version": 3
   },
   "file_extension": ".py",
   "mimetype": "text/x-python",
   "name": "python",
   "nbconvert_exporter": "python",
   "pygments_lexer": "ipython3",
   "version": "3.7.4"
  }
 },
 "nbformat": 4,
 "nbformat_minor": 4
}
